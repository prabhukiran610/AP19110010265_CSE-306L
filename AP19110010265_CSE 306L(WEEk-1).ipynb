{
 "cells": [
  {
   "cell_type": "markdown",
   "id": "76daa093",
   "metadata": {},
   "source": [
    "# #Week 1: Implementation of Language recognizer \n",
    "\n"
   ]
  },
  {
   "cell_type": "markdown",
   "id": "532b5be4",
   "metadata": {},
   "source": [
    "Week 1 Programs \n",
    "\n",
    "1. Implementation of Language recognizer for set of all strings over input alphabet ∑={a,b}  containing even number of a’s and even number of b’s. \n"
   ]
  },
  {
   "cell_type": "code",
   "execution_count": 2,
   "id": "a84a6a17",
   "metadata": {},
   "outputs": [
    {
     "name": "stdout",
     "output_type": "stream",
     "text": [
      "Enter a Charecter :- aabaab\n",
      "string accepted\n"
     ]
    }
   ],
   "source": [
    "a = input('Enter a Charecter :- ')\n",
    "state = 0\n",
    "for i in a:\n",
    "    temp = 0\n",
    "    if state == 0 and temp == 0:\n",
    "        if i == 'a':\n",
    "            state = 1\n",
    "        elif i == 'b':\n",
    "            state = 3\n",
    "        else:\n",
    "            print('error')\n",
    "        temp = 1\n",
    "    elif state == 1 and temp == 0:\n",
    "        if i == 'a':\n",
    "            state = 0\n",
    "        elif i == 'b':\n",
    "            state = 2\n",
    "        else:\n",
    "            print('error')\n",
    "        temp = 1\n",
    "    elif state == 2 and temp == 0:\n",
    "        if i == 'a':\n",
    "            state = 3\n",
    "        elif i == 'b':\n",
    "            state = 1\n",
    "        else:\n",
    "            print('error')\n",
    "        temp = 1\n",
    "    elif state == 3 and temp == 0:\n",
    "        if i == 'a':\n",
    "            state = 2\n",
    "        elif i == 'b':\n",
    "            state = 0\n",
    "        else:\n",
    "            print('error')\n",
    "        temp = 1\n",
    "if state == 0:\n",
    "    print('string accepted')\n",
    "else:\n",
    "    print('string not accepted')"
   ]
  },
  {
   "cell_type": "code",
   "execution_count": 3,
   "id": "0a4b9127",
   "metadata": {},
   "outputs": [
    {
     "name": "stdout",
     "output_type": "stream",
     "text": [
      "Enter a Charecter :- aababb\n",
      "string not accepted\n"
     ]
    }
   ],
   "source": [
    "a = input('Enter a Charecter :- ')\n",
    "state = 0\n",
    "for i in a:\n",
    "    temp = 0\n",
    "    if state == 0 and temp == 0:\n",
    "        if i == 'a':\n",
    "            state = 1\n",
    "        elif i == 'b':\n",
    "            state = 3\n",
    "        else:\n",
    "            print('error')\n",
    "        temp = 1\n",
    "    elif state == 1 and temp == 0:\n",
    "        if i == 'a':\n",
    "            state = 0\n",
    "        elif i == 'b':\n",
    "            state = 2\n",
    "        else:\n",
    "            print('error')\n",
    "        temp = 1\n",
    "    elif state == 2 and temp == 0:\n",
    "        if i == 'a':\n",
    "            state = 3\n",
    "        elif i == 'b':\n",
    "            state = 1\n",
    "        else:\n",
    "            print('error')\n",
    "        temp = 1\n",
    "    elif state == 3 and temp == 0:\n",
    "        if i == 'a':\n",
    "            state = 2\n",
    "        elif i == 'b':\n",
    "            state = 0\n",
    "        else:\n",
    "            print('error')\n",
    "        temp = 1\n",
    "if state == 0:\n",
    "    print('string accepted')\n",
    "else:\n",
    "    print('string not accepted')"
   ]
  },
  {
   "cell_type": "markdown",
   "id": "93faae54",
   "metadata": {},
   "source": [
    "2. Implementation of Language recognizer for set of all strings ending with two symbols of  same type."
   ]
  },
  {
   "cell_type": "code",
   "execution_count": 6,
   "id": "ff17f35c",
   "metadata": {},
   "outputs": [
    {
     "name": "stdout",
     "output_type": "stream",
     "text": [
      "Enter a Character :- pqppq\n",
      "string not accepted\n"
     ]
    }
   ],
   "source": [
    "a = input('Enter a Character :- ')\n",
    "j=0\n",
    "state = 0\n",
    "for i in a:\n",
    "    if state== 0:\n",
    "        if i == 'p':\n",
    "            state = 1\n",
    "        elif i == 'q':\n",
    "            state = 2\n",
    "        else:\n",
    "            j=1\n",
    "            break\n",
    "    elif state == 1:\n",
    "        if i == 'p':\n",
    "            state = 3\n",
    "        elif i== 'q':\n",
    "            state = 2\n",
    "        else:\n",
    "            j=1\n",
    "    elif state == 2:\n",
    "        if i == 'p':\n",
    "            state = 1\n",
    "        elif i== 'q':\n",
    "            state = 4\n",
    "        else:\n",
    "            j=1\n",
    "    elif state == 3:\n",
    "        if i == 'p':\n",
    "            state = 3\n",
    "        elif i== 'q':\n",
    "            state = 2\n",
    "        else:\n",
    "            j=1\n",
    "    else: \n",
    "        if i == 'p':\n",
    "            state = 1\n",
    "        elif i=='q':\n",
    "            state = 4\n",
    "        else:\n",
    "            j=1\n",
    "if j==1:\n",
    "    print('error')\n",
    "elif state == 3 or state == 4:\n",
    "    print('string accepted')\n",
    "else:\n",
    "    print('string not accepted')"
   ]
  },
  {
   "cell_type": "code",
   "execution_count": 7,
   "id": "f800e557",
   "metadata": {},
   "outputs": [
    {
     "name": "stdout",
     "output_type": "stream",
     "text": [
      "Enter a Character :- pqpqq\n",
      "string accepted\n"
     ]
    }
   ],
   "source": [
    "a = input('Enter a Character :- ')\n",
    "j=0\n",
    "state = 0\n",
    "for i in a:\n",
    "    if state== 0:\n",
    "        if i == 'p':\n",
    "            state = 1\n",
    "        elif i == 'q':\n",
    "            state = 2\n",
    "        else:\n",
    "            j=1\n",
    "            break\n",
    "    elif state == 1:\n",
    "        if i == 'p':\n",
    "            state = 3\n",
    "        elif i== 'q':\n",
    "            state = 2\n",
    "        else:\n",
    "            j=1\n",
    "    elif state == 2:\n",
    "        if i == 'p':\n",
    "            state = 1\n",
    "        elif i== 'q':\n",
    "            state = 4\n",
    "        else:\n",
    "            j=1\n",
    "    elif state == 3:\n",
    "        if i == 'p':\n",
    "            state = 3\n",
    "        elif i== 'q':\n",
    "            state = 2\n",
    "        else:\n",
    "            j=1\n",
    "    else: \n",
    "        if i == 'p':\n",
    "            state = 1\n",
    "        elif i=='q':\n",
    "            state = 4\n",
    "        else:\n",
    "            j=1\n",
    "if j==1:\n",
    "    print('error')\n",
    "elif state == 3 or state == 4:\n",
    "    print('string accepted')\n",
    "else:\n",
    "    print('string not accepted')"
   ]
  },
  {
   "cell_type": "code",
   "execution_count": 8,
   "id": "beb46b8c",
   "metadata": {},
   "outputs": [
    {
     "name": "stdout",
     "output_type": "stream",
     "text": [
      "Enter a Character :- p123\n",
      "error\n"
     ]
    }
   ],
   "source": [
    "a = input('Enter a Character :- ')\n",
    "j=0\n",
    "state = 0\n",
    "for i in a:\n",
    "    if state== 0:\n",
    "        if i == 'p':\n",
    "            state = 1\n",
    "        elif i == 'q':\n",
    "            state = 2\n",
    "        else:\n",
    "            j=1\n",
    "            break\n",
    "    elif state == 1:\n",
    "        if i == 'p':\n",
    "            state = 3\n",
    "        elif i== 'q':\n",
    "            state = 2\n",
    "        else:\n",
    "            j=1\n",
    "    elif state == 2:\n",
    "        if i == 'p':\n",
    "            state = 1\n",
    "        elif i== 'q':\n",
    "            state = 4\n",
    "        else:\n",
    "            j=1\n",
    "    elif state == 3:\n",
    "        if i == 'p':\n",
    "            state = 3\n",
    "        elif i== 'q':\n",
    "            state = 2\n",
    "        else:\n",
    "            j=1\n",
    "    else: \n",
    "        if i == 'p':\n",
    "            state = 1\n",
    "        elif i=='q':\n",
    "            state = 4\n",
    "        else:\n",
    "            j=1\n",
    "if j==1:\n",
    "    print('error')\n",
    "elif state == 3 or state == 4:\n",
    "    print('string accepted')\n",
    "else:\n",
    "    print('string not accepted')"
   ]
  },
  {
   "cell_type": "code",
   "execution_count": null,
   "id": "b2157f33",
   "metadata": {},
   "outputs": [],
   "source": []
  }
 ],
 "metadata": {
  "kernelspec": {
   "display_name": "Python 3",
   "language": "python",
   "name": "python3"
  },
  "language_info": {
   "codemirror_mode": {
    "name": "ipython",
    "version": 3
   },
   "file_extension": ".py",
   "mimetype": "text/x-python",
   "name": "python",
   "nbconvert_exporter": "python",
   "pygments_lexer": "ipython3",
   "version": "3.8.8"
  }
 },
 "nbformat": 4,
 "nbformat_minor": 5
}
